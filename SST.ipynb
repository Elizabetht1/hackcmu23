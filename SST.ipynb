{
 "cells": [
  {
   "cell_type": "code",
   "execution_count": null,
   "metadata": {},
   "outputs": [],
   "source": [
    "##libraries for SST\n",
    "import whisper\n",
    "##requires brew install ffmpeg\n",
    "##requires pip install -U openai-whisper\n",
    "\n",
    "\n",
    "#import general libraries \n",
    "import os, glob\n",
    "import pandas as pd\n",
    "import re \n",
    "import json\n",
    "\n",
    "\n",
    "##get audio file and transicrbe into speech to text\n",
    "\n",
    "def transcribe(file_path,model):\n",
    "    ##requires file_path is a file path \n",
    "    ##ensures \\result is\n",
    "    save_json(\"./SST_output.json\",model.transcribe(file_path))\n",
    "\n",
    "def save_json(destination_path,content):\n",
    "    save_file = open(destination_path, \"w\")  \n",
    "    json.dump(content, save_file, indent = 6)  \n",
    "    save_file.close()  \n",
    "\n",
    "def main():\n",
    "    model = whisper.load_model(\"base.en\")\n",
    "    transcribe(fp,m)\n"
   ]
  },
  {
   "cell_type": "code",
   "execution_count": 1,
   "metadata": {},
   "outputs": [
    {
     "data": {
      "text/plain": [
       "'/Users/elizabethterveen/anaconda3/envs/SSTEnv/bin/python'"
      ]
     },
     "execution_count": 1,
     "metadata": {},
     "output_type": "execute_result"
    }
   ],
   "source": [
    "import sys\n",
    "sys.executable"
   ]
  },
  {
   "cell_type": "code",
   "execution_count": null,
   "metadata": {},
   "outputs": [],
   "source": []
  },
  {
   "cell_type": "code",
   "execution_count": null,
   "metadata": {},
   "outputs": [],
   "source": []
  }
 ],
 "metadata": {
  "kernelspec": {
   "display_name": "SSTEnv",
   "language": "python",
   "name": "python3"
  },
  "language_info": {
   "codemirror_mode": {
    "name": "ipython",
    "version": 3
   },
   "file_extension": ".py",
   "mimetype": "text/x-python",
   "name": "python",
   "nbconvert_exporter": "python",
   "pygments_lexer": "ipython3",
   "version": "3.11.4"
  },
  "orig_nbformat": 4
 },
 "nbformat": 4,
 "nbformat_minor": 2
}
