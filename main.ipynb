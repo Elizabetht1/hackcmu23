{
 "cells": [
  {
   "cell_type": "code",
   "execution_count": 51,
   "metadata": {},
   "outputs": [],
   "source": [
    "from __future__ import print_function\n",
    "\n",
    "import datetime\n",
    "import os.path\n",
    "\n",
    "from google.auth.transport.requests import Request\n",
    "from google.oauth2.credentials import Credentials\n",
    "from google_auth_oauthlib.flow import InstalledAppFlow\n",
    "from googleapiclient.discovery import build\n",
    "from googleapiclient.errors import HttpError\n",
    "\n",
    "# If modifying these scopes, delete the file token.json.\n",
    "SCOPES = ['https://www.googleapis.com/auth/calendar']\n",
    "\n",
    "\n",
    "creds = None\n",
    "# The file token.json stores the user's access and refresh tokens, and is\n",
    "# created automatically when the authorization flow completes for the first\n",
    "# time.\n",
    "if os.path.exists('token.json'):\n",
    "    creds = Credentials.from_authorized_user_file('token.json', SCOPES)\n",
    "# If there are no (valid) credentials available, let the user log in.\n",
    "if not creds or not creds.valid:\n",
    "    if creds and creds.expired and creds.refresh_token:\n",
    "        creds.refresh(Request())\n",
    "    else:\n",
    "        flow = InstalledAppFlow.from_client_secrets_file(\n",
    "                'credentials.json', SCOPES)\n",
    "        creds = flow.run_local_server(port=0)\n",
    "        # Save the credentials for the next run\n",
    "    with open('token.json', 'w') as token:\n",
    "        token.write(creds.to_json())\n",
    "\n",
    "\n",
    "service = build('calendar', 'v3', credentials=creds)\n",
    "\n",
    "\n",
    "##helper function to add random name to an event if it is not specified\n",
    "\n",
    "def add_event(start_time,end_time,cal = \"primary\",name = \"\",description = \"\",location = \"\",timezone = \"America/Detroit\"):\n",
    "    event = {\n",
    "        'summary': name,\n",
    "        'location': location,\n",
    "        'description': description,\n",
    "        'start': {\n",
    "            'dateTime': start_time,\n",
    "            'timeZone': timezone,\n",
    "        },\n",
    "        'end': {\n",
    "            'dateTime': end_time,\n",
    "            'timeZone': timezone,\n",
    "        },\n",
    "        'reminders': {\n",
    "            'useDefault': False,\n",
    "            'overrides': [\n",
    "            {'method': 'email', 'minutes': 20},\n",
    "            {'method': 'popup', 'minutes': 10},\n",
    "            ],\n",
    "        },\n",
    "        }\n",
    "    \n",
    "    try:\n",
    "        event = service.events().insert(calendarId=cal, body=event).execute()\n",
    "\n",
    "    except HttpError as error:\n",
    "        print('An error occurred: %s' % error)\n",
    "\n",
    "    return True\n",
    "\n"
   ]
  },
  {
   "cell_type": "code",
   "execution_count": 52,
   "metadata": {},
   "outputs": [
    {
     "data": {
      "text/plain": [
       "True"
      ]
     },
     "execution_count": 52,
     "metadata": {},
     "output_type": "execute_result"
    }
   ],
   "source": [
    "add_event(\"2023-09-17T09:30:00\",\"2023-09-17T09:30:00\",name =\"Studying\",location=\"Morewood Gardens\")"
   ]
  },
  {
   "cell_type": "code",
   "execution_count": null,
   "metadata": {},
   "outputs": [],
   "source": [
    "##create events\n",
    "\n",
    "##need to figure out which user you add to \n",
    "##https://developers.google.com/identity/protocols/oauth2/javascript-implicit-flow\n",
    "\n",
    "##user_info \n",
    "##gets the calendars of a speicifc user and maps all their read-only names to calendar ids to \n",
    "\n",
    "##add_event \n",
    "##-> params: user, name, datetime, location, description, which calendar to add to (default to primary)\n",
    "##if the event exists already do not add it \n",
    "\n",
    "\n",
    "##!! another function – if the taks already exists, update the descriciption \n",
    "##!! suggest actiivties – during free time, during meals; suggest stuff to do near locations based on size of break \n"
   ]
  }
 ],
 "metadata": {
  "kernelspec": {
   "display_name": "hackcmu",
   "language": "python",
   "name": "python3"
  },
  "language_info": {
   "codemirror_mode": {
    "name": "ipython",
    "version": 3
   },
   "file_extension": ".py",
   "mimetype": "text/x-python",
   "name": "python",
   "nbconvert_exporter": "python",
   "pygments_lexer": "ipython3",
   "version": "3.11.5"
  },
  "orig_nbformat": 4
 },
 "nbformat": 4,
 "nbformat_minor": 2
}
